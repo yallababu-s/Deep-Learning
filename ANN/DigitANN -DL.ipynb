{
 "cells": [
  {
   "cell_type": "code",
   "execution_count": 1,
   "id": "250303bf",
   "metadata": {},
   "outputs": [],
   "source": [
    "# Basic Libraries\n",
    "import numpy as np\n",
    "import pandas as pd"
   ]
  },
  {
   "cell_type": "code",
   "execution_count": 2,
   "id": "2b38bbfa",
   "metadata": {},
   "outputs": [
    {
     "name": "stdout",
     "output_type": "stream",
     "text": [
      "# packages in environment at C:\\Users\\hp\\anaconda3\\envs\\vedeep:\n",
      "Note: you may need to restart the kernel to use updated packages.\n",
      "\n",
      "#\n",
      "# Name                    Version                   Build  Channel\n",
      "absl-py                   2.1.0                    pypi_0    pypi\n",
      "anyio                     4.6.2            py39haa95532_0  \n",
      "archspec                  0.2.3              pyhd3eb1b0_0  \n",
      "argon2-cffi               21.3.0             pyhd3eb1b0_0  \n",
      "argon2-cffi-bindings      21.2.0           py39h827c3e9_1  \n",
      "asttokens                 2.0.5              pyhd3eb1b0_0  \n",
      "astunparse                1.6.3                    pypi_0    pypi\n",
      "async-lru                 2.0.4            py39haa95532_0  \n",
      "attrs                     24.3.0           py39haa95532_0  \n",
      "babel                     2.11.0           py39haa95532_0  \n",
      "backcall                  0.2.0              pyhd3eb1b0_0  \n",
      "beautifulsoup4            4.12.3           py39haa95532_0  \n",
      "blas                      1.0                         mkl  \n",
      "bleach                    6.2.0            py39haa95532_0  \n",
      "boltons                   23.0.0           py39haa95532_0  \n",
      "bottleneck                1.4.2            py39hc99e966_0  \n",
      "brotli                    1.0.9                h827c3e9_9  \n",
      "brotli-bin                1.0.9                h827c3e9_9  \n",
      "brotli-python             1.0.9            py39h5da7b33_9  \n",
      "bzip2                     1.0.8                h2bbff1b_6  \n",
      "ca-certificates           2024.11.26           haa95532_0  \n",
      "certifi                   2024.12.14       py39haa95532_0  \n",
      "cffi                      1.17.1           py39h827c3e9_1  \n",
      "charset-normalizer        3.3.2              pyhd3eb1b0_0  \n",
      "colorama                  0.4.6            py39haa95532_0  \n",
      "comm                      0.2.1            py39haa95532_0  \n",
      "conda                     24.11.3          py39haa95532_0  \n",
      "conda-libmamba-solver     24.11.1            pyhd3eb1b0_0  \n",
      "conda-package-handling    2.4.0            py39haa95532_0  \n",
      "conda-package-streaming   0.11.0           py39haa95532_0  \n",
      "contourpy                 1.2.0            py39h59b6b97_0  \n",
      "cpp-expected              1.1.0                h214f63a_0  \n",
      "cycler                    0.11.0             pyhd3eb1b0_0  \n",
      "debugpy                   1.8.11           py39h5da7b33_0  \n",
      "decorator                 5.1.1              pyhd3eb1b0_0  \n",
      "defusedxml                0.7.1              pyhd3eb1b0_0  \n",
      "distro                    1.9.0            py39haa95532_0  \n",
      "exceptiongroup            1.2.0            py39haa95532_0  \n",
      "executing                 0.8.3              pyhd3eb1b0_0  \n",
      "flatbuffers               24.12.23                 pypi_0    pypi\n",
      "fmt                       9.1.0                h6d14046_1  \n",
      "fonttools                 4.51.0           py39h2bbff1b_0  \n",
      "freetype                  2.12.1               ha860e81_0  \n",
      "frozendict                2.4.2            py39h2bbff1b_0  \n",
      "gast                      0.6.0                    pypi_0    pypi\n",
      "google-pasta              0.2.0                    pypi_0    pypi\n",
      "grpcio                    1.69.0                   pypi_0    pypi\n",
      "h11                       0.14.0           py39haa95532_0  \n",
      "h5py                      3.12.1                   pypi_0    pypi\n",
      "httpcore                  1.0.2            py39haa95532_0  \n",
      "httpx                     0.27.0           py39haa95532_0  \n",
      "icu                       73.1                 h6c2663c_0  \n",
      "idna                      3.7              py39haa95532_0  \n",
      "importlib-metadata        8.5.0            py39haa95532_0  \n",
      "importlib_metadata        8.5.0                hd3eb1b0_0  \n",
      "importlib_resources       6.4.0            py39haa95532_0  \n",
      "intel-openmp              2023.1.0         h59b6b97_46320  \n",
      "ipykernel                 6.29.5           py39haa95532_0  \n",
      "ipython                   8.15.0           py39haa95532_0  \n",
      "ipywidgets                8.1.5            py39haa95532_0  \n",
      "jedi                      0.19.2           py39haa95532_0  \n",
      "jinja2                    3.1.4            py39haa95532_1  \n",
      "jpeg                      9e                   h827c3e9_3  \n",
      "json5                     0.9.25           py39haa95532_0  \n",
      "jsonpatch                 1.33             py39haa95532_1  \n",
      "jsonpointer               2.1                pyhd3eb1b0_0  \n",
      "jsonschema                4.23.0           py39haa95532_0  \n",
      "jsonschema-specifications 2023.7.1         py39haa95532_0  \n",
      "jupyter                   1.0.0            py39haa95532_9  \n",
      "jupyter-lsp               2.2.0            py39haa95532_0  \n",
      "jupyter_client            8.6.0            py39haa95532_0  \n",
      "jupyter_console           6.6.3            py39haa95532_0  \n",
      "jupyter_core              5.7.2            py39haa95532_0  \n",
      "jupyter_events            0.10.0           py39haa95532_0  \n",
      "jupyter_server            2.14.1           py39haa95532_0  \n",
      "jupyter_server_terminals  0.4.4            py39haa95532_1  \n",
      "jupyterlab                4.2.5            py39haa95532_0  \n",
      "jupyterlab_pygments       0.1.2                      py_0  \n",
      "jupyterlab_server         2.27.3           py39haa95532_0  \n",
      "jupyterlab_widgets        3.0.13           py39haa95532_0  \n",
      "keras                     3.8.0                    pypi_0    pypi\n",
      "kiwisolver                1.4.4            py39hd77b12b_0  \n",
      "krb5                      1.20.1               h5b6d351_0  \n",
      "lcms2                     2.16                 hb4a4139_0  \n",
      "lerc                      4.0.0                h5da7b33_0  \n",
      "libarchive                3.7.7                h9243413_0  \n",
      "libbrotlicommon           1.0.9                h827c3e9_9  \n",
      "libbrotlidec              1.0.9                h827c3e9_9  \n",
      "libbrotlienc              1.0.9                h827c3e9_9  \n",
      "libclang                  18.1.1                   pypi_0    pypi\n",
      "libclang13                14.0.6          default_h8e68704_2  \n",
      "libcurl                   8.11.1               haff574d_0  \n",
      "libdeflate                1.22                 h5bf469e_0  \n",
      "libiconv                  1.16                 h2bbff1b_3  \n",
      "libmamba                  2.0.5                hcd6fe79_1  \n",
      "libmambapy                2.0.5            py39h214f63a_1  \n",
      "libpng                    1.6.39               h8cc25b3_0  \n",
      "libpq                     17.2                 h70ee33d_0  \n",
      "libsodium                 1.0.18               h62dcd97_0  \n",
      "libsolv                   0.7.30               hf2fb9eb_1  \n",
      "libssh2                   1.11.1               h2addb87_0  \n",
      "libtiff                   4.5.1                h44ae7cf_1  \n",
      "libwebp-base              1.3.2                h3d04722_1  \n",
      "libxml2                   2.13.5               h24da03e_0  \n",
      "lz4-c                     1.9.4                h2bbff1b_1  \n",
      "markdown                  3.7                      pypi_0    pypi\n",
      "markdown-it-py            3.0.0                    pypi_0    pypi\n",
      "markupsafe                2.1.3            py39h2bbff1b_0  \n",
      "matplotlib                3.9.4                    pypi_0    pypi\n",
      "matplotlib-base           3.9.2            py39he19b0ae_1  \n",
      "matplotlib-inline         0.1.6            py39haa95532_0  \n",
      "mdurl                     0.1.2                    pypi_0    pypi\n",
      "menuinst                  2.2.0            py39h5da7b33_0  \n",
      "mistune                   2.0.4            py39haa95532_0  \n",
      "mkl                       2023.1.0         h6b88ed4_46358  \n",
      "mkl-service               2.4.0            py39h2bbff1b_1  \n",
      "mkl_fft                   1.3.11           py39h827c3e9_0  \n",
      "mkl_random                1.2.8            py39hc64d2fc_0  \n",
      "ml-dtypes                 0.4.1                    pypi_0    pypi\n",
      "namex                     0.0.8                    pypi_0    pypi\n",
      "nbclient                  0.8.0            py39haa95532_0  \n",
      "nbconvert                 7.16.4           py39haa95532_0  \n",
      "nbformat                  5.10.4           py39haa95532_0  \n",
      "nest-asyncio              1.6.0            py39haa95532_0  \n",
      "nlohmann_json             3.11.2               h6c2663c_0  \n",
      "notebook                  7.2.2            py39haa95532_1  \n",
      "notebook-shim             0.2.3            py39haa95532_0  \n",
      "numexpr                   2.10.1           py39h4cd664f_0  \n",
      "numpy                     1.26.4                   pypi_0    pypi\n",
      "numpy-base                1.24.3           py39h8a87ada_1  \n",
      "openjpeg                  2.5.2                hae555c5_0  \n",
      "openssl                   3.0.15               h827c3e9_0  \n",
      "opt-einsum                3.4.0                    pypi_0    pypi\n",
      "optree                    0.13.1                   pypi_0    pypi\n",
      "overrides                 7.4.0            py39haa95532_0  \n",
      "packaging                 24.2             py39haa95532_0  \n",
      "pandas                    2.2.3            py39h5da7b33_0  \n",
      "pandocfilters             1.5.0              pyhd3eb1b0_0  \n",
      "parso                     0.8.4            py39haa95532_0  \n",
      "pcre2                     10.42                h0ff8eda_1  \n",
      "pickleshare               0.7.5           pyhd3eb1b0_1003  \n",
      "pillow                    11.0.0           py39h096bfcc_1  \n",
      "pip                       24.2             py39haa95532_0  \n",
      "platformdirs              3.10.0           py39haa95532_0  \n",
      "pluggy                    1.5.0            py39haa95532_0  \n",
      "ply                       3.11             py39haa95532_0  \n",
      "prometheus_client         0.21.0           py39haa95532_0  \n",
      "prompt-toolkit            3.0.43           py39haa95532_0  \n",
      "prompt_toolkit            3.0.43               hd3eb1b0_0  \n",
      "protobuf                  5.29.2                   pypi_0    pypi\n",
      "psutil                    5.9.0            py39h2bbff1b_0  \n",
      "pure_eval                 0.2.2              pyhd3eb1b0_0  \n",
      "pybind11-abi              5                    hd3eb1b0_0  \n",
      "pycosat                   0.6.6            py39h2bbff1b_1  \n",
      "pycparser                 2.21               pyhd3eb1b0_0  \n",
      "pygments                  2.15.1           py39haa95532_1  \n",
      "pyparsing                 3.2.0            py39haa95532_0  \n",
      "pyqt                      5.15.10          py39hd77b12b_0  \n",
      "pyqt5-sip                 12.13.0          py39h2bbff1b_0  \n",
      "pysocks                   1.7.1            py39haa95532_0  \n",
      "python                    3.9.21               h8205438_1  \n",
      "python-dateutil           2.9.0post0       py39haa95532_2  \n",
      "python-fastjsonschema     2.20.0           py39haa95532_0  \n",
      "python-json-logger        3.2.1            py39haa95532_0  \n",
      "python-tzdata             2023.3             pyhd3eb1b0_0  \n",
      "pytz                      2024.1           py39haa95532_0  \n",
      "pywin32                   305              py39h2bbff1b_0  \n",
      "pywinpty                  2.0.14           py39h72d21ff_0  \n",
      "pyyaml                    6.0.2            py39h827c3e9_0  \n",
      "pyzmq                     26.2.0           py39h5da7b33_0  \n",
      "qt-main                   5.15.2              h19c9488_11  \n",
      "qtconsole                 5.6.0            py39haa95532_0  \n",
      "qtpy                      2.4.1            py39haa95532_0  \n",
      "referencing               0.30.2           py39haa95532_0  \n",
      "reproc                    14.2.4               hd77b12b_2  \n",
      "reproc-cpp                14.2.4               hd77b12b_2  \n",
      "requests                  2.32.3           py39haa95532_1  \n",
      "rfc3339-validator         0.1.4            py39haa95532_0  \n",
      "rfc3986-validator         0.1.1            py39haa95532_0  \n",
      "rich                      13.9.4                   pypi_0    pypi\n",
      "rpds-py                   0.10.6           py39h636fa0f_1  \n",
      "ruamel.yaml               0.18.6           py39h827c3e9_0  \n",
      "ruamel.yaml.clib          0.2.8            py39h827c3e9_0  \n",
      "seaborn                   0.13.2                   pypi_0    pypi\n",
      "send2trash                1.8.2            py39haa95532_0  \n",
      "setuptools                75.1.0           py39haa95532_0  \n",
      "simdjson                  3.10.1               h214f63a_0  \n",
      "sip                       6.7.12           py39hd77b12b_0  \n",
      "six                       1.16.0             pyhd3eb1b0_1  \n",
      "sniffio                   1.3.0            py39haa95532_0  \n",
      "soupsieve                 2.5              py39haa95532_0  \n",
      "spdlog                    1.11.0               h59b6b97_0  \n",
      "sqlite                    3.45.3               h2bbff1b_0  \n",
      "stack_data                0.2.0              pyhd3eb1b0_0  \n",
      "tbb                       2021.8.0             h59b6b97_0  \n",
      "tensorboard               2.18.0                   pypi_0    pypi\n",
      "tensorboard-data-server   0.7.2                    pypi_0    pypi\n",
      "tensorflow                2.18.0                   pypi_0    pypi\n",
      "tensorflow-intel          2.18.0                   pypi_0    pypi\n",
      "tensorflow-io-gcs-filesystem 0.31.0                   pypi_0    pypi\n",
      "termcolor                 2.5.0                    pypi_0    pypi\n",
      "terminado                 0.17.1           py39haa95532_0  \n",
      "tinycss2                  1.2.1            py39haa95532_0  \n",
      "tomli                     2.0.1            py39haa95532_0  \n",
      "tornado                   6.4.2            py39h827c3e9_0  \n",
      "tqdm                      4.66.5           py39h9909e9c_0  \n",
      "traitlets                 5.14.3           py39haa95532_0  \n",
      "typing-extensions         4.12.2           py39haa95532_0  \n",
      "typing_extensions         4.12.2           py39haa95532_0  \n",
      "tzdata                    2024b                h04d1e81_0  \n",
      "unicodedata2              15.1.0           py39h2bbff1b_0  \n",
      "urllib3                   2.2.3            py39haa95532_0  \n",
      "vc                        14.40                haa95532_2  \n",
      "vs2015_runtime            14.42.34433          h9531ae6_2  \n",
      "wcwidth                   0.2.5              pyhd3eb1b0_0  \n",
      "webencodings              0.5.1            py39haa95532_1  \n",
      "websocket-client          1.8.0            py39haa95532_0  \n",
      "werkzeug                  3.1.3                    pypi_0    pypi\n",
      "wheel                     0.44.0           py39haa95532_0  \n",
      "widgetsnbextension        4.0.13           py39haa95532_0  \n",
      "win_inet_pton             1.1.0            py39haa95532_0  \n",
      "winpty                    0.4.3                         4  \n",
      "wrapt                     1.17.0                   pypi_0    pypi\n",
      "xz                        5.4.6                h8cc25b3_1  \n",
      "yaml                      0.2.5                he774522_0  \n",
      "yaml-cpp                  0.8.0                hd77b12b_1  \n",
      "zeromq                    4.3.5                hd77b12b_0  \n",
      "zipp                      3.21.0           py39haa95532_0  \n",
      "zlib                      1.2.13               h8cc25b3_1  \n",
      "zstandard                 0.23.0           py39h4fc1ca9_1  \n",
      "zstd                      1.5.6                h8880b57_0  \n"
     ]
    }
   ],
   "source": [
    "conda list"
   ]
  },
  {
   "cell_type": "code",
   "execution_count": 6,
   "id": "893baf2b-5f5b-4f6c-b4f1-e4f6842893d2",
   "metadata": {},
   "outputs": [
    {
     "name": "stdout",
     "output_type": "stream",
     "text": [
      "Collecting Pydot==2.0.0\n",
      "  Downloading pydot-2.0.0-py3-none-any.whl.metadata (9.6 kB)\n",
      "Requirement already satisfied: pyparsing>=3 in c:\\users\\hp\\anaconda3\\envs\\vedeep\\lib\\site-packages (from Pydot==2.0.0) (3.2.0)\n",
      "Downloading pydot-2.0.0-py3-none-any.whl (22 kB)\n",
      "Installing collected packages: Pydot\n",
      "Successfully installed Pydot-2.0.0\n"
     ]
    }
   ],
   "source": [
    "!pip install Pydot==2.0.0"
   ]
  },
  {
   "cell_type": "code",
   "execution_count": 7,
   "id": "3750519c",
   "metadata": {},
   "outputs": [],
   "source": [
    "# Visualization libraries\n",
    "import matplotlib.pyplot as plt\n",
    "import pydot\n",
    "import seaborn as sns"
   ]
  },
  {
   "cell_type": "code",
   "execution_count": 9,
   "id": "aa8edd52",
   "metadata": {},
   "outputs": [],
   "source": [
    "import tensorflow as tf\n",
    "from tensorflow.keras import layers\n",
    "import keras\n",
    "from keras.models import Sequential\n",
    "from keras.layers import Dense, Activation, Dropout\n",
    "from keras.datasets import mnist\n",
    "from tensorflow.keras.utils import to_categorical"
   ]
  },
  {
   "cell_type": "code",
   "execution_count": 10,
   "id": "c0f662a7-fbd2-4501-966e-5f649d7fb1ce",
   "metadata": {},
   "outputs": [
    {
     "name": "stdout",
     "output_type": "stream",
     "text": [
      "Collecting scikeras\n",
      "  Downloading scikeras-0.13.0-py3-none-any.whl.metadata (3.1 kB)\n",
      "Requirement already satisfied: keras>=3.2.0 in c:\\users\\hp\\anaconda3\\envs\\vedeep\\lib\\site-packages (from scikeras) (3.8.0)\n",
      "Collecting scikit-learn>=1.4.2 (from scikeras)\n",
      "  Downloading scikit_learn-1.6.0-cp39-cp39-win_amd64.whl.metadata (15 kB)\n",
      "Requirement already satisfied: absl-py in c:\\users\\hp\\anaconda3\\envs\\vedeep\\lib\\site-packages (from keras>=3.2.0->scikeras) (2.1.0)\n",
      "Requirement already satisfied: numpy in c:\\users\\hp\\anaconda3\\envs\\vedeep\\lib\\site-packages (from keras>=3.2.0->scikeras) (1.24.3)\n",
      "Requirement already satisfied: rich in c:\\users\\hp\\anaconda3\\envs\\vedeep\\lib\\site-packages (from keras>=3.2.0->scikeras) (13.9.4)\n",
      "Requirement already satisfied: namex in c:\\users\\hp\\anaconda3\\envs\\vedeep\\lib\\site-packages (from keras>=3.2.0->scikeras) (0.0.8)\n",
      "Requirement already satisfied: h5py in c:\\users\\hp\\anaconda3\\envs\\vedeep\\lib\\site-packages (from keras>=3.2.0->scikeras) (3.12.1)\n",
      "Requirement already satisfied: optree in c:\\users\\hp\\anaconda3\\envs\\vedeep\\lib\\site-packages (from keras>=3.2.0->scikeras) (0.13.1)\n",
      "Requirement already satisfied: ml-dtypes in c:\\users\\hp\\anaconda3\\envs\\vedeep\\lib\\site-packages (from keras>=3.2.0->scikeras) (0.4.1)\n",
      "Requirement already satisfied: packaging in c:\\users\\hp\\anaconda3\\envs\\vedeep\\lib\\site-packages (from keras>=3.2.0->scikeras) (24.2)\n",
      "Collecting scipy>=1.6.0 (from scikit-learn>=1.4.2->scikeras)\n",
      "  Downloading scipy-1.13.1-cp39-cp39-win_amd64.whl.metadata (60 kB)\n",
      "Collecting joblib>=1.2.0 (from scikit-learn>=1.4.2->scikeras)\n",
      "  Using cached joblib-1.4.2-py3-none-any.whl.metadata (5.4 kB)\n",
      "Collecting threadpoolctl>=3.1.0 (from scikit-learn>=1.4.2->scikeras)\n",
      "  Using cached threadpoolctl-3.5.0-py3-none-any.whl.metadata (13 kB)\n",
      "Requirement already satisfied: typing-extensions>=4.5.0 in c:\\users\\hp\\anaconda3\\envs\\vedeep\\lib\\site-packages (from optree->keras>=3.2.0->scikeras) (4.12.2)\n",
      "Requirement already satisfied: markdown-it-py>=2.2.0 in c:\\users\\hp\\anaconda3\\envs\\vedeep\\lib\\site-packages (from rich->keras>=3.2.0->scikeras) (3.0.0)\n",
      "Requirement already satisfied: pygments<3.0.0,>=2.13.0 in c:\\users\\hp\\anaconda3\\envs\\vedeep\\lib\\site-packages (from rich->keras>=3.2.0->scikeras) (2.15.1)\n",
      "Requirement already satisfied: mdurl~=0.1 in c:\\users\\hp\\anaconda3\\envs\\vedeep\\lib\\site-packages (from markdown-it-py>=2.2.0->rich->keras>=3.2.0->scikeras) (0.1.2)\n",
      "Downloading scikeras-0.13.0-py3-none-any.whl (26 kB)\n",
      "Downloading scikit_learn-1.6.0-cp39-cp39-win_amd64.whl (11.1 MB)\n",
      "   ---------------------------------------- 0.0/11.1 MB ? eta -:--:--\n",
      "   ------ --------------------------------- 1.8/11.1 MB 10.1 MB/s eta 0:00:01\n",
      "   -------------- ------------------------- 3.9/11.1 MB 9.4 MB/s eta 0:00:01\n",
      "   --------------------- ------------------ 6.0/11.1 MB 9.5 MB/s eta 0:00:01\n",
      "   ----------------------------- ---------- 8.1/11.1 MB 9.5 MB/s eta 0:00:01\n",
      "   ------------------------------------ --- 10.2/11.1 MB 9.5 MB/s eta 0:00:01\n",
      "   ---------------------------------------- 11.1/11.1 MB 8.9 MB/s eta 0:00:00\n",
      "Using cached joblib-1.4.2-py3-none-any.whl (301 kB)\n",
      "Downloading scipy-1.13.1-cp39-cp39-win_amd64.whl (46.2 MB)\n",
      "   ---------------------------------------- 0.0/46.2 MB ? eta -:--:--\n",
      "   - -------------------------------------- 2.1/46.2 MB 9.8 MB/s eta 0:00:05\n",
      "   --- ------------------------------------ 4.2/46.2 MB 10.1 MB/s eta 0:00:05\n",
      "   ----- ---------------------------------- 6.3/46.2 MB 10.2 MB/s eta 0:00:04\n",
      "   ------- -------------------------------- 8.7/46.2 MB 10.0 MB/s eta 0:00:04\n",
      "   --------- ------------------------------ 10.5/46.2 MB 9.8 MB/s eta 0:00:04\n",
      "   ----------- ---------------------------- 12.8/46.2 MB 9.8 MB/s eta 0:00:04\n",
      "   ------------ --------------------------- 14.7/46.2 MB 9.8 MB/s eta 0:00:04\n",
      "   -------------- ------------------------- 16.8/46.2 MB 9.8 MB/s eta 0:00:04\n",
      "   --------------- ------------------------ 17.6/46.2 MB 9.2 MB/s eta 0:00:04\n",
      "   ----------------- ---------------------- 19.9/46.2 MB 9.3 MB/s eta 0:00:03\n",
      "   ------------------ --------------------- 21.8/46.2 MB 9.2 MB/s eta 0:00:03\n",
      "   -------------------- ------------------- 24.1/46.2 MB 9.3 MB/s eta 0:00:03\n",
      "   ---------------------- ----------------- 26.2/46.2 MB 9.4 MB/s eta 0:00:03\n",
      "   ------------------------ --------------- 28.6/46.2 MB 9.4 MB/s eta 0:00:02\n",
      "   -------------------------- ------------- 30.4/46.2 MB 9.4 MB/s eta 0:00:02\n",
      "   ---------------------------- ----------- 32.5/46.2 MB 9.4 MB/s eta 0:00:02\n",
      "   ----------------------------- ---------- 34.6/46.2 MB 9.5 MB/s eta 0:00:02\n",
      "   ------------------------------- -------- 36.7/46.2 MB 9.5 MB/s eta 0:00:02\n",
      "   --------------------------------- ------ 38.5/46.2 MB 9.5 MB/s eta 0:00:01\n",
      "   ----------------------------------- ---- 40.6/46.2 MB 9.5 MB/s eta 0:00:01\n",
      "   ------------------------------------ --- 42.5/46.2 MB 9.5 MB/s eta 0:00:01\n",
      "   -------------------------------------- - 44.8/46.2 MB 9.5 MB/s eta 0:00:01\n",
      "   ---------------------------------------  46.1/46.2 MB 9.5 MB/s eta 0:00:01\n",
      "   ---------------------------------------  46.1/46.2 MB 9.5 MB/s eta 0:00:01\n",
      "   ---------------------------------------  46.1/46.2 MB 9.5 MB/s eta 0:00:01\n",
      "   ---------------------------------------- 46.2/46.2 MB 8.5 MB/s eta 0:00:00\n",
      "Using cached threadpoolctl-3.5.0-py3-none-any.whl (18 kB)\n",
      "Installing collected packages: threadpoolctl, scipy, joblib, scikit-learn, scikeras\n",
      "Successfully installed joblib-1.4.2 scikeras-0.13.0 scikit-learn-1.6.0 scipy-1.13.1 threadpoolctl-3.5.0\n"
     ]
    }
   ],
   "source": [
    "!pip install scikeras"
   ]
  },
  {
   "cell_type": "code",
   "execution_count": 11,
   "id": "bb67d959-db21-4395-9ed9-1b2acaaed097",
   "metadata": {},
   "outputs": [],
   "source": [
    "from scikeras.wrappers import KerasClassifier"
   ]
  },
  {
   "cell_type": "code",
   "execution_count": 12,
   "id": "7d7bfc60",
   "metadata": {},
   "outputs": [],
   "source": [
    "#Evaluation library\n",
    "from sklearn.metrics import confusion_matrix\n",
    "from sklearn.metrics import accuracy_score\n",
    "from sklearn.model_selection import GridSearchCV"
   ]
  },
  {
   "cell_type": "code",
   "execution_count": 13,
   "id": "f5efe2ee",
   "metadata": {},
   "outputs": [],
   "source": [
    "# Digit MNIST dataset\n",
    "(X_train_digit, Y_train_digit), (X_test_digit, Y_test_digit) = mnist.load_data()"
   ]
  },
  {
   "cell_type": "code",
   "execution_count": 14,
   "id": "88a1523f",
   "metadata": {},
   "outputs": [
    {
     "data": {
      "text/plain": [
       "array([[  0,   0,   0,   0,   0,   0,   0,   0,   0,   0,   0,   0,   0,\n",
       "          0,   0,   0,   0,   0,   0,   0,   0,   0,   0,   0,   0,   0,\n",
       "          0,   0],\n",
       "       [  0,   0,   0,   0,   0,   0,   0,   0,   0,   0,   0,   0,   0,\n",
       "          0,   0,   0,   0,   0,   0,   0,   0,   0,   0,   0,   0,   0,\n",
       "          0,   0],\n",
       "       [  0,   0,   0,   0,   0,   0,   0,   0,   0,   0,   0,   0,   0,\n",
       "          0,   0,   0,   0,   0,   0,   0,   0,   0,   0,   0,   0,   0,\n",
       "          0,   0],\n",
       "       [  0,   0,   0,   0,   0,   0,   0,   0,   0,   0,   0,   0,   0,\n",
       "          0,   0,   0,   0,   0,   0,   0,   0,   0,   0,   0,   0,   0,\n",
       "          0,   0],\n",
       "       [  0,   0,   0,   0,   0,   0,   0,   0,   0,   0,   0,   0,   0,\n",
       "          0,   0,  51, 159, 253, 159,  50,   0,   0,   0,   0,   0,   0,\n",
       "          0,   0],\n",
       "       [  0,   0,   0,   0,   0,   0,   0,   0,   0,   0,   0,   0,   0,\n",
       "          0,  48, 238, 252, 252, 252, 237,   0,   0,   0,   0,   0,   0,\n",
       "          0,   0],\n",
       "       [  0,   0,   0,   0,   0,   0,   0,   0,   0,   0,   0,   0,   0,\n",
       "         54, 227, 253, 252, 239, 233, 252,  57,   6,   0,   0,   0,   0,\n",
       "          0,   0],\n",
       "       [  0,   0,   0,   0,   0,   0,   0,   0,   0,   0,   0,  10,  60,\n",
       "        224, 252, 253, 252, 202,  84, 252, 253, 122,   0,   0,   0,   0,\n",
       "          0,   0],\n",
       "       [  0,   0,   0,   0,   0,   0,   0,   0,   0,   0,   0, 163, 252,\n",
       "        252, 252, 253, 252, 252,  96, 189, 253, 167,   0,   0,   0,   0,\n",
       "          0,   0],\n",
       "       [  0,   0,   0,   0,   0,   0,   0,   0,   0,   0,  51, 238, 253,\n",
       "        253, 190, 114, 253, 228,  47,  79, 255, 168,   0,   0,   0,   0,\n",
       "          0,   0],\n",
       "       [  0,   0,   0,   0,   0,   0,   0,   0,   0,  48, 238, 252, 252,\n",
       "        179,  12,  75, 121,  21,   0,   0, 253, 243,  50,   0,   0,   0,\n",
       "          0,   0],\n",
       "       [  0,   0,   0,   0,   0,   0,   0,   0,  38, 165, 253, 233, 208,\n",
       "         84,   0,   0,   0,   0,   0,   0, 253, 252, 165,   0,   0,   0,\n",
       "          0,   0],\n",
       "       [  0,   0,   0,   0,   0,   0,   0,   7, 178, 252, 240,  71,  19,\n",
       "         28,   0,   0,   0,   0,   0,   0, 253, 252, 195,   0,   0,   0,\n",
       "          0,   0],\n",
       "       [  0,   0,   0,   0,   0,   0,   0,  57, 252, 252,  63,   0,   0,\n",
       "          0,   0,   0,   0,   0,   0,   0, 253, 252, 195,   0,   0,   0,\n",
       "          0,   0],\n",
       "       [  0,   0,   0,   0,   0,   0,   0, 198, 253, 190,   0,   0,   0,\n",
       "          0,   0,   0,   0,   0,   0,   0, 255, 253, 196,   0,   0,   0,\n",
       "          0,   0],\n",
       "       [  0,   0,   0,   0,   0,   0,  76, 246, 252, 112,   0,   0,   0,\n",
       "          0,   0,   0,   0,   0,   0,   0, 253, 252, 148,   0,   0,   0,\n",
       "          0,   0],\n",
       "       [  0,   0,   0,   0,   0,   0,  85, 252, 230,  25,   0,   0,   0,\n",
       "          0,   0,   0,   0,   0,   7, 135, 253, 186,  12,   0,   0,   0,\n",
       "          0,   0],\n",
       "       [  0,   0,   0,   0,   0,   0,  85, 252, 223,   0,   0,   0,   0,\n",
       "          0,   0,   0,   0,   7, 131, 252, 225,  71,   0,   0,   0,   0,\n",
       "          0,   0],\n",
       "       [  0,   0,   0,   0,   0,   0,  85, 252, 145,   0,   0,   0,   0,\n",
       "          0,   0,   0,  48, 165, 252, 173,   0,   0,   0,   0,   0,   0,\n",
       "          0,   0],\n",
       "       [  0,   0,   0,   0,   0,   0,  86, 253, 225,   0,   0,   0,   0,\n",
       "          0,   0, 114, 238, 253, 162,   0,   0,   0,   0,   0,   0,   0,\n",
       "          0,   0],\n",
       "       [  0,   0,   0,   0,   0,   0,  85, 252, 249, 146,  48,  29,  85,\n",
       "        178, 225, 253, 223, 167,  56,   0,   0,   0,   0,   0,   0,   0,\n",
       "          0,   0],\n",
       "       [  0,   0,   0,   0,   0,   0,  85, 252, 252, 252, 229, 215, 252,\n",
       "        252, 252, 196, 130,   0,   0,   0,   0,   0,   0,   0,   0,   0,\n",
       "          0,   0],\n",
       "       [  0,   0,   0,   0,   0,   0,  28, 199, 252, 252, 253, 252, 252,\n",
       "        233, 145,   0,   0,   0,   0,   0,   0,   0,   0,   0,   0,   0,\n",
       "          0,   0],\n",
       "       [  0,   0,   0,   0,   0,   0,   0,  25, 128, 252, 253, 252, 141,\n",
       "         37,   0,   0,   0,   0,   0,   0,   0,   0,   0,   0,   0,   0,\n",
       "          0,   0],\n",
       "       [  0,   0,   0,   0,   0,   0,   0,   0,   0,   0,   0,   0,   0,\n",
       "          0,   0,   0,   0,   0,   0,   0,   0,   0,   0,   0,   0,   0,\n",
       "          0,   0],\n",
       "       [  0,   0,   0,   0,   0,   0,   0,   0,   0,   0,   0,   0,   0,\n",
       "          0,   0,   0,   0,   0,   0,   0,   0,   0,   0,   0,   0,   0,\n",
       "          0,   0],\n",
       "       [  0,   0,   0,   0,   0,   0,   0,   0,   0,   0,   0,   0,   0,\n",
       "          0,   0,   0,   0,   0,   0,   0,   0,   0,   0,   0,   0,   0,\n",
       "          0,   0],\n",
       "       [  0,   0,   0,   0,   0,   0,   0,   0,   0,   0,   0,   0,   0,\n",
       "          0,   0,   0,   0,   0,   0,   0,   0,   0,   0,   0,   0,   0,\n",
       "          0,   0]], dtype=uint8)"
      ]
     },
     "execution_count": 14,
     "metadata": {},
     "output_type": "execute_result"
    }
   ],
   "source": [
    "X_train_digit[1]"
   ]
  },
  {
   "cell_type": "code",
   "execution_count": 15,
   "id": "645f7b09",
   "metadata": {},
   "outputs": [
    {
     "data": {
      "text/plain": [
       "array([5, 0, 4, ..., 5, 6, 8], dtype=uint8)"
      ]
     },
     "execution_count": 15,
     "metadata": {},
     "output_type": "execute_result"
    }
   ],
   "source": [
    "Y_train_digit"
   ]
  },
  {
   "cell_type": "code",
   "execution_count": 16,
   "id": "0f0a5b35",
   "metadata": {},
   "outputs": [
    {
     "data": {
      "image/png": "[encoded data removed]",
      "text/plain": [
       "<Figure size 1000x1000 with 15 Axes>"
      ]
     },
     "metadata": {},
     "output_type": "display_data"
    }
   ],
   "source": [
    "# Names of numbers in the dataset in order\n",
    "col_names = ['Zero','One','Two','Three','Four','Five','Six','Seven','Eight','Nine']\n",
    "\n",
    "# Visualizing the digits\n",
    "\n",
    "plt.figure(figsize=(10,10))\n",
    "for i in range(15):\n",
    "    plt.subplot(5,5,i+1)\n",
    "    plt.xticks([])\n",
    "    plt.yticks([])\n",
    "    plt.imshow(X_train_digit[i], cmap='gray')\n",
    "    plt.xlabel(col_names[Y_train_digit[i]])\n",
    "plt.show()"
   ]
  },
  {
   "cell_type": "code",
   "execution_count": 17,
   "id": "230c3e75",
   "metadata": {},
   "outputs": [
    {
     "data": {
      "text/plain": [
       "(60000, 28, 28)"
      ]
     },
     "execution_count": 17,
     "metadata": {},
     "output_type": "execute_result"
    }
   ],
   "source": [
    "X_train_digit.shape"
   ]
  },
  {
   "cell_type": "code",
   "execution_count": 18,
   "id": "2c6e6eb2",
   "metadata": {},
   "outputs": [],
   "source": [
    "X_train_digit = X_train_digit.reshape(60000,784)\n",
    "X_test_digit = X_test_digit.reshape(10000,784)"
   ]
  },
  {
   "cell_type": "code",
   "execution_count": 19,
   "id": "6670adbd",
   "metadata": {},
   "outputs": [
    {
     "data": {
      "text/plain": [
       "(60000, 784)"
      ]
     },
     "execution_count": 19,
     "metadata": {},
     "output_type": "execute_result"
    }
   ],
   "source": [
    "X_train_digit.shape"
   ]
  },
  {
   "cell_type": "code",
   "execution_count": 20,
   "id": "e29a36ae",
   "metadata": {},
   "outputs": [
    {
     "data": {
      "text/plain": [
       "(10000, 784)"
      ]
     },
     "execution_count": 20,
     "metadata": {},
     "output_type": "execute_result"
    }
   ],
   "source": [
    "X_test_digit.shape"
   ]
  },
  {
   "cell_type": "code",
   "execution_count": 21,
   "id": "42b4cff1",
   "metadata": {},
   "outputs": [],
   "source": [
    "# Encoding Digit MNIST Labels\n",
    "\n",
    "Y_train_digit = to_categorical(Y_train_digit, num_classes=10)\n",
    "\n",
    "Y_test_digit = to_categorical(Y_test_digit, num_classes=10)"
   ]
  },
  {
   "cell_type": "code",
   "execution_count": 22,
   "id": "536a36b2",
   "metadata": {},
   "outputs": [
    {
     "data": {
      "text/plain": [
       "array([1., 0., 0., 0., 0., 0., 0., 0., 0., 0.])"
      ]
     },
     "execution_count": 22,
     "metadata": {},
     "output_type": "execute_result"
    }
   ],
   "source": [
    "Y_train_digit[1]"
   ]
  },
  {
   "cell_type": "code",
   "execution_count": 23,
   "id": "3a9e295c",
   "metadata": {},
   "outputs": [
    {
     "name": "stderr",
     "output_type": "stream",
     "text": [
      "C:\\Users\\hp\\anaconda3\\envs\\vedeep\\lib\\site-packages\\keras\\src\\layers\\core\\dense.py:87: UserWarning: Do not pass an `input_shape`/`input_dim` argument to a layer. When using Sequential models, prefer using an `Input(shape)` object as the first layer in the model instead.\n",
      "  super().__init__(activity_regularizer=activity_regularizer, **kwargs)\n"
     ]
    }
   ],
   "source": [
    "# Creating Base NEURAL NETWORK\n",
    "\n",
    "model = keras.Sequential([\n",
    "    layers.Dense(256, activation='relu', input_shape=(784,)),\n",
    "    #layers.Dropout(0.3),\n",
    "    #layers.BatchNormalization(),\n",
    "    layers.Dense(64, activation='relu'),\n",
    "    #layers.Dropout(0.3),\n",
    "    #layers.BatchNormalization(),\n",
    "    layers.Dense(64, activation='relu'),\n",
    "    #layers.Dropout(0.3),\n",
    "    #layers.BatchNormalization(),\n",
    "    layers.Dense(10,activation='sigmoid'),\n",
    "])"
   ]
  },
  {
   "cell_type": "code",
   "execution_count": 24,
   "id": "8eb08b24",
   "metadata": {},
   "outputs": [
    {
     "data": {
      "text/html": [
       "<pre style=\"white-space:pre;overflow-x:auto;line-height:normal;font-family:Menlo,'DejaVu Sans Mono',consolas,'Courier New',monospace\"><span style=\"font-weight: bold\">Model: \"sequential\"</span>\n",
       "</pre>\n"
      ],
      "text/plain": [
       "\u001b[1mModel: \"sequential\"\u001b[0m\n"
      ]
     },
     "metadata": {},
     "output_type": "display_data"
    },
    {
     "data": {
      "text/html": [
       "<pre style=\"white-space:pre;overflow-x:auto;line-height:normal;font-family:Menlo,'DejaVu Sans Mono',consolas,'Courier New',monospace\">┏━━━━━━━━━━━━━━━━━━━━━━━━━━━━━━━━━━━━━━┳━━━━━━━━━━━━━━━━━━━━━━━━━━━━━┳━━━━━━━━━━━━━━━━━┓\n",
       "┃<span style=\"font-weight: bold\"> Layer (type)                         </span>┃<span style=\"font-weight: bold\"> Output Shape                </span>┃<span style=\"font-weight: bold\">         Param # </span>┃\n",
       "┡━━━━━━━━━━━━━━━━━━━━━━━━━━━━━━━━━━━━━━╇━━━━━━━━━━━━━━━━━━━━━━━━━━━━━╇━━━━━━━━━━━━━━━━━┩\n",
       "│ dense (<span style=\"color: #0087ff; text-decoration-color: #0087ff\">Dense</span>)                        │ (<span style=\"color: #00d7ff; text-decoration-color: #00d7ff\">None</span>, <span style=\"color: #00af00; text-decoration-color: #00af00\">256</span>)                 │         <span style=\"color: #00af00; text-decoration-color: #00af00\">200,960</span> │\n",
       "├──────────────────────────────────────┼─────────────────────────────┼─────────────────┤\n",
       "│ dense_1 (<span style=\"color: #0087ff; text-decoration-color: #0087ff\">Dense</span>)                      │ (<span style=\"color: #00d7ff; text-decoration-color: #00d7ff\">None</span>, <span style=\"color: #00af00; text-decoration-color: #00af00\">64</span>)                  │          <span style=\"color: #00af00; text-decoration-color: #00af00\">16,448</span> │\n",
       "├──────────────────────────────────────┼─────────────────────────────┼─────────────────┤\n",
       "│ dense_2 (<span style=\"color: #0087ff; text-decoration-color: #0087ff\">Dense</span>)                      │ (<span style=\"color: #00d7ff; text-decoration-color: #00d7ff\">None</span>, <span style=\"color: #00af00; text-decoration-color: #00af00\">64</span>)                  │           <span style=\"color: #00af00; text-decoration-color: #00af00\">4,160</span> │\n",
       "├──────────────────────────────────────┼─────────────────────────────┼─────────────────┤\n",
       "│ dense_3 (<span style=\"color: #0087ff; text-decoration-color: #0087ff\">Dense</span>)                      │ (<span style=\"color: #00d7ff; text-decoration-color: #00d7ff\">None</span>, <span style=\"color: #00af00; text-decoration-color: #00af00\">10</span>)                  │             <span style=\"color: #00af00; text-decoration-color: #00af00\">650</span> │\n",
       "└──────────────────────────────────────┴─────────────────────────────┴─────────────────┘\n",
       "</pre>\n"
      ],
      "text/plain": [
       "┏━━━━━━━━━━━━━━━━━━━━━━━━━━━━━━━━━━━━━━┳━━━━━━━━━━━━━━━━━━━━━━━━━━━━━┳━━━━━━━━━━━━━━━━━┓\n",
       "┃\u001b[1m \u001b[0m\u001b[1mLayer (type)                        \u001b[0m\u001b[1m \u001b[0m┃\u001b[1m \u001b[0m\u001b[1mOutput Shape               \u001b[0m\u001b[1m \u001b[0m┃\u001b[1m \u001b[0m\u001b[1m        Param #\u001b[0m\u001b[1m \u001b[0m┃\n",
       "┡━━━━━━━━━━━━━━━━━━━━━━━━━━━━━━━━━━━━━━╇━━━━━━━━━━━━━━━━━━━━━━━━━━━━━╇━━━━━━━━━━━━━━━━━┩\n",
       "│ dense (\u001b[38;5;33mDense\u001b[0m)                        │ (\u001b[38;5;45mNone\u001b[0m, \u001b[38;5;34m256\u001b[0m)                 │         \u001b[38;5;34m200,960\u001b[0m │\n",
       "├──────────────────────────────────────┼─────────────────────────────┼─────────────────┤\n",
       "│ dense_1 (\u001b[38;5;33mDense\u001b[0m)                      │ (\u001b[38;5;45mNone\u001b[0m, \u001b[38;5;34m64\u001b[0m)                  │          \u001b[38;5;34m16,448\u001b[0m │\n",
       "├──────────────────────────────────────┼─────────────────────────────┼─────────────────┤\n",
       "│ dense_2 (\u001b[38;5;33mDense\u001b[0m)                      │ (\u001b[38;5;45mNone\u001b[0m, \u001b[38;5;34m64\u001b[0m)                  │           \u001b[38;5;34m4,160\u001b[0m │\n",
       "├──────────────────────────────────────┼─────────────────────────────┼─────────────────┤\n",
       "│ dense_3 (\u001b[38;5;33mDense\u001b[0m)                      │ (\u001b[38;5;45mNone\u001b[0m, \u001b[38;5;34m10\u001b[0m)                  │             \u001b[38;5;34m650\u001b[0m │\n",
       "└──────────────────────────────────────┴─────────────────────────────┴─────────────────┘\n"
      ]
     },
     "metadata": {},
     "output_type": "display_data"
    },
    {
     "data": {
      "text/html": [
       "<pre style=\"white-space:pre;overflow-x:auto;line-height:normal;font-family:Menlo,'DejaVu Sans Mono',consolas,'Courier New',monospace\"><span style=\"font-weight: bold\"> Total params: </span><span style=\"color: #00af00; text-decoration-color: #00af00\">222,218</span> (868.04 KB)\n",
       "</pre>\n"
      ],
      "text/plain": [
       "\u001b[1m Total params: \u001b[0m\u001b[38;5;34m222,218\u001b[0m (868.04 KB)\n"
      ]
     },
     "metadata": {},
     "output_type": "display_data"
    },
    {
     "data": {
      "text/html": [
       "<pre style=\"white-space:pre;overflow-x:auto;line-height:normal;font-family:Menlo,'DejaVu Sans Mono',consolas,'Courier New',monospace\"><span style=\"font-weight: bold\"> Trainable params: </span><span style=\"color: #00af00; text-decoration-color: #00af00\">222,218</span> (868.04 KB)\n",
       "</pre>\n"
      ],
      "text/plain": [
       "\u001b[1m Trainable params: \u001b[0m\u001b[38;5;34m222,218\u001b[0m (868.04 KB)\n"
      ]
     },
     "metadata": {},
     "output_type": "display_data"
    },
    {
     "data": {
      "text/html": [
       "<pre style=\"white-space:pre;overflow-x:auto;line-height:normal;font-family:Menlo,'DejaVu Sans Mono',consolas,'Courier New',monospace\"><span style=\"font-weight: bold\"> Non-trainable params: </span><span style=\"color: #00af00; text-decoration-color: #00af00\">0</span> (0.00 B)\n",
       "</pre>\n"
      ],
      "text/plain": [
       "\u001b[1m Non-trainable params: \u001b[0m\u001b[38;5;34m0\u001b[0m (0.00 B)\n"
      ]
     },
     "metadata": {},
     "output_type": "display_data"
    }
   ],
   "source": [
    "#param_number = output_channel_number * (input_channel_number + 1)\n",
    "model.summary()"
   ]
  },
  {
   "cell_type": "code",
   "execution_count": 25,
   "id": "91989be9",
   "metadata": {},
   "outputs": [],
   "source": [
    "#Compiling the model\n",
    "model.compile(loss=\"categorical_crossentropy\",\n",
    "              optimizer=\"adam\",\n",
    "              metrics = ['accuracy'])"
   ]
  },
  {
   "cell_type": "code",
   "execution_count": 26,
   "id": "650ba971",
   "metadata": {},
   "outputs": [
    {
     "name": "stdout",
     "output_type": "stream",
     "text": [
      "Epoch 1/10\n",
      "\u001b[1m600/600\u001b[0m \u001b[32m━━━━━━━━━━━━━━━━━━━━\u001b[0m\u001b[37m\u001b[0m \u001b[1m9s\u001b[0m 9ms/step - accuracy: 0.7730 - loss: 3.3950 - val_accuracy: 0.9227 - val_loss: 0.3318\n",
      "Epoch 2/10\n",
      "\u001b[1m600/600\u001b[0m \u001b[32m━━━━━━━━━━━━━━━━━━━━\u001b[0m\u001b[37m\u001b[0m \u001b[1m5s\u001b[0m 8ms/step - accuracy: 0.9351 - loss: 0.2527 - val_accuracy: 0.9426 - val_loss: 0.2239\n",
      "Epoch 3/10\n",
      "\u001b[1m600/600\u001b[0m \u001b[32m━━━━━━━━━━━━━━━━━━━━\u001b[0m\u001b[37m\u001b[0m \u001b[1m5s\u001b[0m 8ms/step - accuracy: 0.9550 - loss: 0.1605 - val_accuracy: 0.9485 - val_loss: 0.2045\n",
      "Epoch 4/10\n",
      "\u001b[1m600/600\u001b[0m \u001b[32m━━━━━━━━━━━━━━━━━━━━\u001b[0m\u001b[37m\u001b[0m \u001b[1m5s\u001b[0m 8ms/step - accuracy: 0.9629 - loss: 0.1265 - val_accuracy: 0.9510 - val_loss: 0.1944\n",
      "Epoch 5/10\n",
      "\u001b[1m600/600\u001b[0m \u001b[32m━━━━━━━━━━━━━━━━━━━━\u001b[0m\u001b[37m\u001b[0m \u001b[1m5s\u001b[0m 8ms/step - accuracy: 0.9690 - loss: 0.1067 - val_accuracy: 0.9595 - val_loss: 0.1557\n",
      "Epoch 6/10\n",
      "\u001b[1m600/600\u001b[0m \u001b[32m━━━━━━━━━━━━━━━━━━━━\u001b[0m\u001b[37m\u001b[0m \u001b[1m5s\u001b[0m 8ms/step - accuracy: 0.9736 - loss: 0.0960 - val_accuracy: 0.9524 - val_loss: 0.2174\n",
      "Epoch 7/10\n",
      "\u001b[1m600/600\u001b[0m \u001b[32m━━━━━━━━━━━━━━━━━━━━\u001b[0m\u001b[37m\u001b[0m \u001b[1m5s\u001b[0m 8ms/step - accuracy: 0.9720 - loss: 0.0929 - val_accuracy: 0.9669 - val_loss: 0.1422\n",
      "Epoch 8/10\n",
      "\u001b[1m600/600\u001b[0m \u001b[32m━━━━━━━━━━━━━━━━━━━━\u001b[0m\u001b[37m\u001b[0m \u001b[1m5s\u001b[0m 8ms/step - accuracy: 0.9802 - loss: 0.0687 - val_accuracy: 0.9631 - val_loss: 0.1742\n",
      "Epoch 9/10\n",
      "\u001b[1m600/600\u001b[0m \u001b[32m━━━━━━━━━━━━━━━━━━━━\u001b[0m\u001b[37m\u001b[0m \u001b[1m5s\u001b[0m 8ms/step - accuracy: 0.9783 - loss: 0.0730 - val_accuracy: 0.9659 - val_loss: 0.1481\n",
      "Epoch 10/10\n",
      "\u001b[1m600/600\u001b[0m \u001b[32m━━━━━━━━━━━━━━━━━━━━\u001b[0m\u001b[37m\u001b[0m \u001b[1m5s\u001b[0m 8ms/step - accuracy: 0.9816 - loss: 0.0619 - val_accuracy: 0.9578 - val_loss: 0.1787\n"
     ]
    }
   ],
   "source": [
    "history=model.fit(X_train_digit, Y_train_digit, batch_size=100, epochs=10,validation_data=(X_test_digit, Y_test_digit))"
   ]
  },
  {
   "cell_type": "code",
   "execution_count": 27,
   "id": "f5f43ba3",
   "metadata": {},
   "outputs": [
    {
     "name": "stdout",
     "output_type": "stream",
     "text": [
      "\u001b[1m313/313\u001b[0m \u001b[32m━━━━━━━━━━━━━━━━━━━━\u001b[0m\u001b[37m\u001b[0m \u001b[1m1s\u001b[0m 3ms/step\n"
     ]
    }
   ],
   "source": [
    "#Predicting the labels-DIGIT\n",
    "y_predict = model.predict(X_test_digit)\n"
   ]
  },
  {
   "cell_type": "code",
   "execution_count": 29,
   "id": "4fea5d2a",
   "metadata": {},
   "outputs": [
    {
     "data": {
      "text/plain": [
       "array([2.0332935e-09, 9.9818349e-01, 8.7757818e-02, 2.8838137e-01,\n",
       "       1.0410585e-05, 3.1647353e-06, 6.2481632e-07, 9.9999726e-01,\n",
       "       6.9669881e-03, 8.4325469e-01], dtype=float32)"
      ]
     },
     "execution_count": 29,
     "metadata": {},
     "output_type": "execute_result"
    }
   ],
   "source": [
    "y_predict[0]"
   ]
  },
  {
   "cell_type": "code",
   "execution_count": 30,
   "id": "7d78ee7f",
   "metadata": {},
   "outputs": [],
   "source": [
    "# Here we get the index of maximum value in the encoded vector\n",
    "\n",
    "y_predicts=np.argmax(y_predict, axis=1)"
   ]
  },
  {
   "cell_type": "code",
   "execution_count": 31,
   "id": "59f34f77",
   "metadata": {},
   "outputs": [
    {
     "data": {
      "text/plain": [
       "array([7, 2, 1, ..., 4, 5, 5], dtype=int64)"
      ]
     },
     "execution_count": 31,
     "metadata": {},
     "output_type": "execute_result"
    }
   ],
   "source": [
    "y_predicts"
   ]
  },
  {
   "cell_type": "code",
   "execution_count": 32,
   "id": "ea148f6d",
   "metadata": {},
   "outputs": [],
   "source": [
    "Y_test_digit_eval=np.argmax(Y_test_digit, axis=1)"
   ]
  },
  {
   "cell_type": "code",
   "execution_count": 33,
   "id": "40ee2266",
   "metadata": {},
   "outputs": [
    {
     "data": {
      "text/plain": [
       "array([7, 2, 1, ..., 4, 5, 6], dtype=int64)"
      ]
     },
     "execution_count": 33,
     "metadata": {},
     "output_type": "execute_result"
    }
   ],
   "source": [
    "Y_test_digit_eval"
   ]
  },
  {
   "cell_type": "code",
   "execution_count": 34,
   "id": "8322ee08",
   "metadata": {},
   "outputs": [],
   "source": [
    "import matplotlib.pyplot as plt"
   ]
  },
  {
   "cell_type": "code",
   "execution_count": 35,
   "id": "6f1582f7",
   "metadata": {},
   "outputs": [
    {
     "name": "stdout",
     "output_type": "stream",
     "text": [
      "['Solarize_Light2', '_classic_test_patch', '_mpl-gallery', '_mpl-gallery-nogrid', 'bmh', 'classic', 'dark_background', 'fast', 'fivethirtyeight', 'ggplot', 'grayscale', 'seaborn-v0_8', 'seaborn-v0_8-bright', 'seaborn-v0_8-colorblind', 'seaborn-v0_8-dark', 'seaborn-v0_8-dark-palette', 'seaborn-v0_8-darkgrid', 'seaborn-v0_8-deep', 'seaborn-v0_8-muted', 'seaborn-v0_8-notebook', 'seaborn-v0_8-paper', 'seaborn-v0_8-pastel', 'seaborn-v0_8-poster', 'seaborn-v0_8-talk', 'seaborn-v0_8-ticks', 'seaborn-v0_8-white', 'seaborn-v0_8-whitegrid', 'tableau-colorblind10']\n"
     ]
    }
   ],
   "source": [
    "print(plt.style.available)"
   ]
  },
  {
   "cell_type": "code",
   "execution_count": 36,
   "id": "b6311c77",
   "metadata": {},
   "outputs": [],
   "source": [
    "import seaborn as sns"
   ]
  },
  {
   "cell_type": "code",
   "execution_count": 37,
   "id": "eedc0768",
   "metadata": {},
   "outputs": [],
   "source": [
    "sns.set_palette(\"deep\")"
   ]
  },
  {
   "cell_type": "code",
   "execution_count": 38,
   "id": "e33734a2",
   "metadata": {},
   "outputs": [
    {
     "data": {
      "image/png": "[encoded data removed]",
      "text/plain": [
       "<Figure size 1000x1000 with 2 Axes>"
      ]
     },
     "metadata": {},
     "output_type": "display_data"
    }
   ],
   "source": [
    "#Confusion matrix for Digit MNIST\n",
    "con_mat=confusion_matrix(Y_test_digit_eval,y_predicts)\n",
    "plt.style.use('grayscale')\n",
    "plt.figure(figsize=(10,10))\n",
    "sns.heatmap(con_mat,annot=True,annot_kws={'size': 15},linewidths=0.5,fmt=\"d\",cmap=\"gray\")\n",
    "plt.title('True or False predicted digit MNIST\\n',fontweight='bold',fontsize=15)\n",
    "plt.show()"
   ]
  },
  {
   "cell_type": "code",
   "execution_count": 39,
   "id": "e750a1ba",
   "metadata": {},
   "outputs": [
    {
     "name": "stdout",
     "output_type": "stream",
     "text": [
      "              precision    recall  f1-score   support\n",
      "\n",
      "           0       0.96      0.98      0.97       980\n",
      "           1       0.99      0.98      0.98      1135\n",
      "           2       0.97      0.96      0.96      1032\n",
      "           3       0.92      0.98      0.95      1010\n",
      "           4       0.97      0.90      0.94       982\n",
      "           5       0.94      0.93      0.94       892\n",
      "           6       0.98      0.94      0.96       958\n",
      "           7       0.97      0.93      0.95      1028\n",
      "           8       0.94      0.96      0.95       974\n",
      "           9       0.88      0.95      0.92      1009\n",
      "\n",
      "    accuracy                           0.95     10000\n",
      "   macro avg       0.95      0.95      0.95     10000\n",
      "weighted avg       0.95      0.95      0.95     10000\n",
      "\n"
     ]
    }
   ],
   "source": [
    "from sklearn.metrics import classification_report\n",
    "\n",
    "print(classification_report(Y_test_digit_eval,y_predicts))"
   ]
  },
  {
   "cell_type": "code",
   "execution_count": 40,
   "id": "5c5c6cc5",
   "metadata": {},
   "outputs": [
    {
     "data": {
      "image/png": "[encoded data removed]",
      "text/plain": [
       "<Figure size 640x480 with 1 Axes>"
      ]
     },
     "metadata": {},
     "output_type": "display_data"
    }
   ],
   "source": [
    "# summarize history for accuracy\n",
    "plt.plot(history.history['accuracy'])\n",
    "plt.plot(history.history['val_accuracy'])\n",
    "plt.title('model accuracy')\n",
    "plt.ylabel('accuracy')\n",
    "plt.xlabel('epoch')\n",
    "plt.legend(['train', 'test'], loc='best')\n",
    "plt.show()\n"
   ]
  },
  {
   "cell_type": "code",
   "execution_count": null,
   "id": "7985124e",
   "metadata": {},
   "outputs": [],
   "source": []
  },
  {
   "cell_type": "code",
   "execution_count": 41,
   "id": "ea9e13ae",
   "metadata": {},
   "outputs": [
    {
     "data": {
      "image/png": "[encoded data removed]",
      "text/plain": [
       "<Figure size 640x480 with 1 Axes>"
      ]
     },
     "metadata": {},
     "output_type": "display_data"
    }
   ],
   "source": [
    "plt.plot(history.history['loss'])\n",
    "plt.plot(history.history['val_loss'])\n",
    "plt.title('model loss')\n",
    "plt.ylabel('loss')\n",
    "plt.xlabel('epoch')\n",
    "plt.legend(['train', 'test'], loc='best')\n",
    "plt.show()"
   ]
  },
  {
   "cell_type": "code",
   "execution_count": null,
   "id": "3a4deca1",
   "metadata": {},
   "outputs": [],
   "source": []
  },
  {
   "cell_type": "code",
   "execution_count": 42,
   "id": "bcb8dc63",
   "metadata": {},
   "outputs": [
    {
     "name": "stdout",
     "output_type": "stream",
     "text": [
      "\u001b[1m1/1\u001b[0m \u001b[32m━━━━━━━━━━━━━━━━━━━━\u001b[0m\u001b[37m\u001b[0m \u001b[1m0s\u001b[0m 114ms/step\n"
     ]
    }
   ],
   "source": [
    "# tf.extend_dims(X_test_digit[0])\n",
    "\n",
    "y_predict_single = model.predict(X_test_digit[[2]])\n",
    "y_predicts_single=np.argmax(y_predict_single, axis=1) \n",
    "# Here we get the index of maximum value in the encoded vector\n",
    "Y_test_digit_eval=np.argmax(Y_test_digit, axis=1)"
   ]
  },
  {
   "cell_type": "code",
   "execution_count": 43,
   "id": "68d826e1",
   "metadata": {},
   "outputs": [],
   "source": [
    "#Names of numbers in the dataset in order\n",
    "col_names = ['Zero','One','Two','Three','Four','Five','Six','Seven','Eight','Nine']"
   ]
  },
  {
   "cell_type": "code",
   "execution_count": 44,
   "id": "b1be3d18",
   "metadata": {},
   "outputs": [
    {
     "data": {
      "image/png": "[encoded data removed]",
      "text/plain": [
       "<Figure size 640x480 with 1 Axes>"
      ]
     },
     "metadata": {},
     "output_type": "display_data"
    }
   ],
   "source": [
    "#Visualizing the digits\n",
    "#plt.figure(figsize=(10,10))\n",
    "plt.imshow(X_test_digit[2].reshape(28,28), cmap='gray')\n",
    "plt.xlabel(\"Actual:{},Pred:{}\".format(col_names[np.argmax(Y_test_digit[2])],col_names[y_predicts_single[0]]))\n",
    "plt.show()\n"
   ]
  },
  {
   "cell_type": "code",
   "execution_count": null,
   "id": "9ce2c631",
   "metadata": {},
   "outputs": [],
   "source": [
    "#END ---- both predict and actual same."
   ]
  },
  {
   "cell_type": "code",
   "execution_count": null,
   "id": "b56c7ead-d5fa-4a6a-b63b-a3245345569a",
   "metadata": {},
   "outputs": [],
   "source": []
  },
  {
   "cell_type": "code",
   "execution_count": null,
   "id": "99cfdd2c-5977-4385-8dbd-2a1e65a1830d",
   "metadata": {},
   "outputs": [],
   "source": []
  }
 ],
 "metadata": {
  "kernelspec": {
   "display_name": "Python 3 (ipykernel)",
   "language": "python",
   "name": "python3"
  },
  "language_info": {
   "codemirror_mode": {
    "name": "ipython",
    "version": 3
   },
   "file_extension": ".py",
   "mimetype": "text/x-python",
   "name": "python",
   "nbconvert_exporter": "python",
   "pygments_lexer": "ipython3",
   "version": "3.9.21"
  }
 },
 "nbformat": 4,
 "nbformat_minor": 5
}
